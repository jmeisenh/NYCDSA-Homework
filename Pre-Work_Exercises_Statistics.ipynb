{
 "cells": [
  {
   "cell_type": "markdown",
   "id": "8b5517bf-4dcb-4d89-bc06-f4d68b6805eb",
   "metadata": {},
   "source": [
    "Pre-Work Exercises + Solutions: Statistics"
   ]
  },
  {
   "cell_type": "markdown",
   "id": "4a21e279-0964-4e71-8999-48859d227264",
   "metadata": {},
   "source": [
    "What are the mean and median of the following data set?\n",
    "Dataset: 1, 7, 21, 3, –17"
   ]
  },
  {
   "cell_type": "code",
   "execution_count": 9,
   "id": "d4a8ace8-53e4-4480-8ad5-35d60db46de3",
   "metadata": {},
   "outputs": [
    {
     "name": "stdout",
     "output_type": "stream",
     "text": [
      "The median of the series is 3\n",
      "The mean of the series is 3\n"
     ]
    }
   ],
   "source": [
    "### Answer Here:\n",
    "# Mean (x_bar) calculated manually\n",
    "# 1 + 7 + 21 + 3 - 17 = 15\n",
    "# Sum divided by sample size is mean\n",
    "# 15 / 5 = 3\n",
    "# x_bar = 3\n",
    "\n",
    "# MediAN Value\n",
    "# order the data {-17, 1, 3, 7, 21}\n",
    "# Mean value is 3\n",
    "\n",
    "# check results\n",
    "import statistics as st\n",
    "my_series = [1, 7, 21, 3, -17]\n",
    "print('The median of the series is ' + str(st.median(my_series)))\n",
    "print('The mean of the series is '  + str(st.mean(my_series)))\n",
    "\n"
   ]
  },
  {
   "cell_type": "markdown",
   "id": "da7fa26b-ab8d-426b-8491-48a8fc47a2e4",
   "metadata": {},
   "source": [
    "What are the variance and standard deviation of the following data set? Calculate this using both the population and sample formulas.\n",
    "Dataset: 1 3 5"
   ]
  },
  {
   "cell_type": "code",
   "execution_count": 13,
   "id": "66538891-77d2-4e65-a2d6-e38a1e920021",
   "metadata": {},
   "outputs": [
    {
     "name": "stdout",
     "output_type": "stream",
     "text": [
      " The sample standard deviation is 2.0\n",
      " The population standard deviation is 1.632993161855452\n"
     ]
    }
   ],
   "source": [
    "### Answer Here:\n",
    "# First calculate the mean\n",
    "# 1 + 3 + 5 = 9\n",
    "# 9 / 3 = 3\n",
    "# next calculate the squared differences from the mean of all integers in Dataset\n",
    "# (1 - 3) ^2 + (3 - 3)^2 + (5 - 3)^2\n",
    "# -2^2 + 0^2 + 2^2\n",
    "# 4 + 0 + 4 = 8\n",
    "# for a population divide by n\n",
    "# sigma^2 = 8 / 3\n",
    "# sigma = sqrt(8 / 3) = 1.633\n",
    "# for a sample divide by (n - 1)\n",
    "# s^2 = 8 / 2 = 4\n",
    "# s = sqrt(4) = 2\n",
    "\n",
    "#Check results\n",
    "import statistics as st\n",
    "my_series2 = [1, 3, 5]\n",
    "print(' The sample standard deviation is ' + str(st.stdev(my_series2)))\n",
    "print(' The population standard deviation is ' + str(st.pstdev(my_series2)))"
   ]
  },
  {
   "cell_type": "markdown",
   "id": "a2f4cf18-37fb-4796-9f8e-79cd905e13cd",
   "metadata": {},
   "source": [
    "In each of the following sets of variables, which are likely candidates to be treated as independent and which as dependent within a research study?\n",
    "• Gender, alcohol consumption, and driving record\n",
    "\n",
    "• High school GPA (grade point average), university freshman year GPA, choice of major, race/ethnicity, and gender\n",
    "\n",
    "• Age, ethnicity, smoking habits, use of hormone replacement therapy, and occurrence of breast cancer\n",
    "\n",
    "• Accuracy on a coding task, type of instructions given, practice time, and anxiety level"
   ]
  },
  {
   "cell_type": "markdown",
   "id": "f1840c21-b7b3-4d73-be69-ad19e452f075",
   "metadata": {},
   "source": [
    "### Answer Here:\n",
    "Gender, alcohol consumption, and driving record\n",
    "    Independent Variables: Gender, alcohol consumption\n",
    "    Dependent Variables: driving record\n",
    "High school GPA (grade point average), university freshman year GPA, choice of major, race/ethnicity, and gender\n",
    "    Independent Variables: race/ethnicity, gender\n",
    "    Dependent Variables : High school GPA (grade point average), university freshman year GPA, choice of major\n",
    "    (A strong case could be made for High school GPA being an independent variable as a predictor for freshman GPA or choice of major depending on focus of study)\n",
    "Age, ethnicity, smoking habits, use of hormone replacement therapy, and occurrence of breast cancer\n",
    "    Independent Variables: Age, ethnicity, smoking habits, use of hormone replacement therapy\n",
    "    Dependent Variables:  occurrence of breast cancer\n",
    "Accuracy on a coding task, type of instructions given, practice time, and anxiety level\n",
    "    Independent Variables: type of instruction given, practice time\n",
    "    Dependent Variables: Accuracy on a coding task, anxiety level\n",
    "    (axiety level could also be a independent variable if it is measured before the experiment)\n",
    "    \n",
    "General Note: The portion of the text dealing with dependent and independant variables is outside of the assigned reading (In Chapter 7) The one sentence mentioning them in chapter 5 may not be enough information to inform on this subject"
   ]
  },
  {
   "cell_type": "markdown",
   "id": "b00cace8-b1fb-4fec-860c-fc47454239cb",
   "metadata": {},
   "source": [
    "Boutique brewery company is trying to determine the optimal period of fermentation for a new organic ale. However, given that the organic ingredients have never been used before, the brewer needs to know whether the new recipe will require a different fermentation period from the existing recipe. The average fermentation time for existing brews is 48 hours. The master brewer decides to test the null hypothesis that there is no difference between the population mean and the sample mean of Old Sarum. After randomly selecting 20 batches of the organic recipe, the brewer finds that the average brewing time is 43 hours and the standard deviation is 3.5 for the sample. Set up a 1-sample T-Test, and calculate the t-statistic to conclude if there is significant evidence that the organic ingredients decrease the fermentation time.\n",
    "Note: When N=20, the null hypothesis can be rejected if |t| ≥ 1.729 at the 0.05 level of significance. The result will be equivalent to the one that’s calculated by using the p-value, and both methods are given below."
   ]
  },
  {
   "cell_type": "code",
   "execution_count": 15,
   "id": "5046e81c-4a0c-447c-808c-daf15e9256c4",
   "metadata": {},
   "outputs": [
    {
     "name": "stdout",
     "output_type": "stream",
     "text": [
      "6.388765649999399\n"
     ]
    }
   ],
   "source": [
    "### Answer Here:\n",
    "\"\"\"\n",
    "t = (xbar - mu_subzero) / (s / sqrt(n)\n",
    "Xbar = 43 hours\n",
    "mu_subzero = 48 hours\n",
    "s = 3.5\n",
    "n = 20\n",
    "\"\"\"\n",
    "t = abs((43 - 48) / (3.5 / ((20)**.5)))\n",
    "print(t)\n",
    "\n",
    "\"\"\"\n",
    "|t| = 6.389, well inside the rejection region. The null hypothesis is rejected. \n",
    "there is significant statistical evidence to suggest that the organic ingredients require a different fermentation time\n",
    "\"\"\""
   ]
  },
  {
   "cell_type": "code",
   "execution_count": null,
   "id": "02a8b2ab-e4b3-49cf-9948-50d9e5d75ee2",
   "metadata": {},
   "outputs": [],
   "source": []
  }
 ],
 "metadata": {
  "kernelspec": {
   "display_name": "Python 3 (ipykernel)",
   "language": "python",
   "name": "python3"
  },
  "language_info": {
   "codemirror_mode": {
    "name": "ipython",
    "version": 3
   },
   "file_extension": ".py",
   "mimetype": "text/x-python",
   "name": "python",
   "nbconvert_exporter": "python",
   "pygments_lexer": "ipython3",
   "version": "3.8.8"
  }
 },
 "nbformat": 4,
 "nbformat_minor": 5
}
