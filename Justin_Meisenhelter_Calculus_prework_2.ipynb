{
 "cells": [
  {
   "cell_type": "markdown",
   "id": "9f64520a-c912-4a49-98bc-62fa07e8855b",
   "metadata": {},
   "source": [
    "Derivatives Continued\n",
    "* Use the following graph to evaluate\n",
    "* Graph consists of 2 equations\n",
    "\n",
    "* $ y = \\frac{4}{5}x + 1$ for $(0 \\le x < 4)$\n",
    "* $ y = \\frac{1}{2}x + 4$ for $(4 < x \\le 8)$\n",
    "    + $f\\prime(1)$\n",
    "        * $= \\frac{4}{5}$\n",
    "    + $f\\prime(6)$\n",
    "        * $ = \\frac{1}{2}$\n",
    "\n"
   ]
  },
  {
   "cell_type": "markdown",
   "id": "53c4ebd0-53be-45b8-9090-f729cc765a1e",
   "metadata": {},
   "source": [
    "* Use the following graph to evaluate\n",
    "* Graph consists of 2 equations\n",
    "\n",
    "* $ y = 3$ for $(-4 \\le x < 1)$\n",
    "* $ y = 3x$ for $ (1 < x \\le 6)$\n",
    "    + $f\\prime(-3)$\n",
    "        * $= 0$\n",
    "    + $f\\prime(1.5)$\n",
    "        * $ = 3$"
   ]
  },
  {
   "cell_type": "markdown",
   "id": "fa7216a4-bf28-45e1-91d1-da2cdff23fbb",
   "metadata": {},
   "source": [
    "### Calculate the Derivative\n",
    "\n",
    "1. $f(x) = x^7 + 10$\n",
    "    + $f\\prime(x) = 7x$\n",
    "2. $f(x) = 5x^3 - x + 1$\n",
    "    + $f\\prime(x) = 15x^2 - 1$\n",
    "3. $f(x) = 4x^2 - 7x$\n",
    "    + $f\\prime(x) = 8x - 7$\n",
    "4. $f(x) = 8x^4 + 9x - 1$\n",
    "    + $f\\prime(x) = 32x^3 + 9$\n",
    "5. $f(x) = x^4 + \\frac{2}{x}$\n",
    "    + $f\\prime(x) = 4x^3 - \\frac{2}{x^2}$\n",
    "6. $f(x) = 3x(18x^4 + \\frac{13}{x+1})$\n",
    "    + $u = 3x, v=18x^4 + \\frac{13}{x+1}$\n",
    "    + $u\\prime = 3, v\\prime = 72x^3 - \\frac{13}{(x+1)^2}$\n",
    "    + $f\\prime(x) = 3(\\frac{13}{(x+1)} + 18x^4) + 3x(72x^3 - \\frac{13}{(x+1)^2})$\n",
    "7. $f(x) = (x+2)(2x^2-3)$  \n",
    "    + $u = (x+2), v = (2x^2-3)$\n",
    "    + $u\\prime = 1 , v\\prime = 4x$\n",
    "    + $f\\prime(x) = 6x^2 + 8x -3$\n",
    "8. $f(x) = x^2(\\frac{2}{x^2} + \\frac{5}{x^3})$\n",
    "    + $f(x)$ simplifies to $2 + \\frac{5}{x}$\n",
    "    + $f\\prime(x) = -\\frac{5}{x^2}$\n",
    "9. $f(x) = \\frac{x^3 + 2x^2 - 4}{3}$\n",
    "    + $f\\prime(x) = x^3 + 4\\frac{x}{3}$\n",
    "10. $f(x) = \\frac{4x^3 - 2x + 1}{x^2}$\n",
    "    + $f(x) = 4x - 2x^-1 + x^-2$\n",
    "    + $f\\prime(x) = 4 + 2x^-2 - 2x^-3$\n",
    "    + $f\\prime(x) = 4 + \\frac{2}{x^2}(1-\\frac{1}{x})$\n",
    "11. $f(x) = \\frac{x^2+4}{x^2 - 4}$\n",
    "    + $u = x^2+4$, $v = x^2 - 4$\n",
    "    + $u\\prime = 2x$, $v\\prime = 2x$\n",
    "    + $f\\prime(x) = \\frac{(2x)(x^2-4) - (2x)(x^2+4)}{(x^2-4)^2}$\n",
    "    + $f\\prime(x) = -\\frac{16}{(x^2 - 4)^2}$\n",
    "12. $f(x) = \\frac{x+9}{x^2 -7x + 1}$\n",
    "    + $u = x+9$, $v= x^2-7x+1$\n",
    "    + $u\\prime = 1$, $v\\prime=2x-7$\n",
    "    + $f\\prime(x) = \\frac{x^2-7x+1 - (x+9)(2x-7)}{(x^2-7x+1)^2}$\n",
    "    + $f\\prime(x) = -\\frac{x^2+18x-64}{(x^2-7x+1)^2}$\n",
    "    "
   ]
  },
  {
   "cell_type": "markdown",
   "id": "022f24f2-adc8-45c8-ac18-e4cad895bd61",
   "metadata": {},
   "source": [
    "#### Leibniz Notation and the Chain Rule\n",
    "for the following exercises, given that <center> $y = f(u)$ and $u = g(x)$, find $\\frac{\\partial y}{\\partial x}$ </center>\n",
    "by using Leibniz’s notation for the\n",
    "chain rule, i.e.: \n",
    "<center> $\\frac{\\partial y}{\\partial x} = \\frac{\\partial y}{\\partial u} \\frac{\\partial u}{\\partial x}$ </center>\n",
    "\n",
    "1. $y = 3u - 6$ , $u = 2x^2$\n",
    "    + $\\frac{\\partial y}{\\partial u} = 3$\n",
    "    + $\\frac{\\partial u}{\\partial x} = 4x$\n",
    "    + $\\frac{\\partial x}{\\partial y} = 12x$\n",
    "2. $y = 6u^3$, $u = 7x - 4$\n",
    "    + $\\frac{\\partial y}{\\partial u} = 18u^2$\n",
    "    + $\\frac{\\partial u}{\\partial x} = 7$\n",
    "    + $\\frac{\\partial x}{\\partial y} = 126(7x-4)^2$\n",
    "3. $y = \\sqrt{4u+3}$, $u = x^2 - 6x$\n",
    "    + $\\frac{\\partial y}{\\partial u} = \\frac{1}{2\\sqrt{4u+3}}$\n",
    "    + $\\frac{\\partial u}{\\partial x} = 2x-6$\n",
    "    + $\\frac{\\partial x}{\\partial y} = \\frac{1}{2\\sqrt{8x-21}}$"
   ]
  },
  {
   "cell_type": "markdown",
   "id": "7632922a-ce58-4053-aa76-2172bd385d1d",
   "metadata": {},
   "source": [
    "#### For each of the following exercies, decompose each function into the form $y = f(u)$ and $u = g(x)$, and find $\\frac{\\partial y}{\\partial x}$ as a function of x.\n",
    "\n",
    "1. $y = (3x-2)^2$\n",
    "    + $u = 3x-2$\n",
    "    + $\\frac{\\partial y}{\\partial u} = 2u$\n",
    "    + $\\frac{\\partial u}{\\partial x} = 3$\n",
    "    + $\\frac{\\partial x}{\\partial y} = 6(3x-2)$\n",
    "2. $y = (3x^2+1)^2$\n",
    "    + $u = 3x^2+1$\n",
    "    + $y = u^2$\n",
    "    + $\\frac{\\partial y}{\\partial u} = 2u$\n",
    "    + $\\frac{\\partial u}{\\partial x} = 6x$\n",
    "    + $\\frac{\\partial x}{\\partial y} = 12ux = 12x(3x^2+1)$\n",
    "    \n"
   ]
  },
  {
   "cell_type": "markdown",
   "id": "f11fa881-85f4-4c10-b121-988ae2563f01",
   "metadata": {},
   "source": [
    "#### For the following exersices, find $\\frac{\\partial y}{\\partial x}$ for each function.\n",
    "\n",
    "1. $y = (3x^2 +3x -1)^4$\n",
    "    + $u = 3x^2+3x-1$\n",
    "    + $y = u^4$\n",
    "    + $\\frac{\\partial y}{\\partial u} = 4u^3$\n",
    "    + $\\frac{\\partial u}{\\partial x} = 6x+3$\n",
    "    + $\\frac{\\partial x}{\\partial y} = 4u^3(6x+3) = 4(3x^2+3x-1)^3(6x+3)$\n",
    "2. $y = (2x^3-x^2+6x+1)^3$\n",
    "    + $u = 2x^3-x^2+6x+1$\n",
    "    + $y = u^3$\n",
    "    + $\\frac{\\partial y}{\\partial u} = 3u^2$\n",
    "    + $\\frac{\\partial u}{\\partial x} = 6x^2-2x+6$\n",
    "    + $\\frac{\\partial x}{\\partial y} = 3u^2(6x^2-2x+6) = 3(2x^3-x^2+6x+1)^2(6x^2-2x+6)$"
   ]
  },
  {
   "cell_type": "markdown",
   "id": "4da608b3-233a-43c7-ad2b-aa190b11a71a",
   "metadata": {},
   "source": [
    "#### For the following exersices, find $f\\prime(x)$ for each function.\n",
    "\n",
    "1. $f(x) = x^2e^x$\n",
    "    + $u = x^2$\n",
    "    + $v = e^x$\n",
    "    + $\\frac{\\partial u}{\\partial x} = 2x$\n",
    "    + $\\frac{\\partial v}{\\partial x} = e^x$\n",
    "    + $f\\prime(x) = 2xe^x + x^2e^x$ \n",
    "2. $f(x) = \\frac{e^{-x}}{x}$ \n",
    "    + $u = e^{-x}$\n",
    "    + $v = x$\n",
    "    + $\\frac{\\partial u}{\\partial x} = -e^{-x}$\n",
    "    + $\\frac{\\partial v}{\\partial x} = 1$\n",
    "    + $f\\prime(x) = \\frac{(-e^{-x}x) - (e^{-x})}{x^2} = \\frac{(x+1)e^{-x}}{x^2}$ "
   ]
  },
  {
   "cell_type": "code",
   "execution_count": null,
   "id": "5c297cf3-2888-480d-96ef-a5a1f6a7d2bb",
   "metadata": {},
   "outputs": [],
   "source": []
  }
 ],
 "metadata": {
  "kernelspec": {
   "display_name": "Python 3 (ipykernel)",
   "language": "python",
   "name": "python3"
  },
  "language_info": {
   "codemirror_mode": {
    "name": "ipython",
    "version": 3
   },
   "file_extension": ".py",
   "mimetype": "text/x-python",
   "name": "python",
   "nbconvert_exporter": "python",
   "pygments_lexer": "ipython3",
   "version": "3.8.8"
  }
 },
 "nbformat": 4,
 "nbformat_minor": 5
}
